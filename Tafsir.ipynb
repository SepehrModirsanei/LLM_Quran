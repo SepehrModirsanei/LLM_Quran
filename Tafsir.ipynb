{
  "nbformat": 4,
  "nbformat_minor": 0,
  "metadata": {
    "colab": {
      "provenance": [],
      "authorship_tag": "ABX9TyPTCA3EViVBlOD9yGgv3rdz",
      "include_colab_link": true
    },
    "kernelspec": {
      "name": "python3",
      "display_name": "Python 3"
    },
    "language_info": {
      "name": "python"
    }
  },
  "cells": [
    {
      "cell_type": "markdown",
      "metadata": {
        "id": "view-in-github",
        "colab_type": "text"
      },
      "source": [
        "<a href=\"https://colab.research.google.com/github/SepehrModirsanei/LLM_Quran/blob/main/Tafsir.ipynb\" target=\"_parent\"><img src=\"https://colab.research.google.com/assets/colab-badge.svg\" alt=\"Open In Colab\"/></a>"
      ]
    },
    {
      "cell_type": "code",
      "source": [
        "!pip install pandas scikit-learn hazm\n"
      ],
      "metadata": {
        "colab": {
          "base_uri": "https://localhost:8080/"
        },
        "id": "eiGl4r98igOZ",
        "outputId": "7bb43396-7ed4-4787-d919-807f9f789afe"
      },
      "execution_count": null,
      "outputs": [
        {
          "output_type": "stream",
          "name": "stdout",
          "text": [
            "Requirement already satisfied: pandas in /usr/local/lib/python3.10/dist-packages (2.0.3)\n",
            "Requirement already satisfied: scikit-learn in /usr/local/lib/python3.10/dist-packages (1.2.2)\n",
            "Requirement already satisfied: hazm in /usr/local/lib/python3.10/dist-packages (0.10.0)\n",
            "Requirement already satisfied: python-dateutil>=2.8.2 in /usr/local/lib/python3.10/dist-packages (from pandas) (2.8.2)\n",
            "Requirement already satisfied: pytz>=2020.1 in /usr/local/lib/python3.10/dist-packages (from pandas) (2023.4)\n",
            "Requirement already satisfied: tzdata>=2022.1 in /usr/local/lib/python3.10/dist-packages (from pandas) (2024.1)\n",
            "Requirement already satisfied: numpy>=1.21.0 in /usr/local/lib/python3.10/dist-packages (from pandas) (1.24.3)\n",
            "Requirement already satisfied: scipy>=1.3.2 in /usr/local/lib/python3.10/dist-packages (from scikit-learn) (1.11.4)\n",
            "Requirement already satisfied: joblib>=1.1.1 in /usr/local/lib/python3.10/dist-packages (from scikit-learn) (1.4.0)\n",
            "Requirement already satisfied: threadpoolctl>=2.0.0 in /usr/local/lib/python3.10/dist-packages (from scikit-learn) (3.4.0)\n",
            "Requirement already satisfied: fasttext-wheel<0.10.0,>=0.9.2 in /usr/local/lib/python3.10/dist-packages (from hazm) (0.9.2)\n",
            "Requirement already satisfied: flashtext<3.0,>=2.7 in /usr/local/lib/python3.10/dist-packages (from hazm) (2.7)\n",
            "Requirement already satisfied: gensim<5.0.0,>=4.3.1 in /usr/local/lib/python3.10/dist-packages (from hazm) (4.3.2)\n",
            "Requirement already satisfied: nltk<4.0.0,>=3.8.1 in /usr/local/lib/python3.10/dist-packages (from hazm) (3.8.1)\n",
            "Requirement already satisfied: python-crfsuite<0.10.0,>=0.9.9 in /usr/local/lib/python3.10/dist-packages (from hazm) (0.9.10)\n",
            "Requirement already satisfied: pybind11>=2.2 in /usr/local/lib/python3.10/dist-packages (from fasttext-wheel<0.10.0,>=0.9.2->hazm) (2.12.0)\n",
            "Requirement already satisfied: setuptools>=0.7.0 in /usr/local/lib/python3.10/dist-packages (from fasttext-wheel<0.10.0,>=0.9.2->hazm) (67.7.2)\n",
            "Requirement already satisfied: smart-open>=1.8.1 in /usr/local/lib/python3.10/dist-packages (from gensim<5.0.0,>=4.3.1->hazm) (6.4.0)\n",
            "Requirement already satisfied: click in /usr/local/lib/python3.10/dist-packages (from nltk<4.0.0,>=3.8.1->hazm) (8.1.7)\n",
            "Requirement already satisfied: regex>=2021.8.3 in /usr/local/lib/python3.10/dist-packages (from nltk<4.0.0,>=3.8.1->hazm) (2023.12.25)\n",
            "Requirement already satisfied: tqdm in /usr/local/lib/python3.10/dist-packages (from nltk<4.0.0,>=3.8.1->hazm) (4.66.2)\n",
            "Requirement already satisfied: six>=1.5 in /usr/local/lib/python3.10/dist-packages (from python-dateutil>=2.8.2->pandas) (1.16.0)\n"
          ]
        }
      ]
    },
    {
      "cell_type": "code",
      "execution_count": null,
      "metadata": {
        "colab": {
          "base_uri": "https://localhost:8080/"
        },
        "id": "-fKWd4FDfd_b",
        "outputId": "906c01eb-e09e-4cdf-c0b9-6718603e2342"
      },
      "outputs": [
        {
          "output_type": "stream",
          "name": "stdout",
          "text": [
            "Drive already mounted at /content/drive; to attempt to forcibly remount, call drive.mount(\"/content/drive\", force_remount=True).\n"
          ]
        }
      ],
      "source": [
        "from google.colab import drive\n",
        "import pandas as pd\n",
        "from sklearn.feature_extraction.text import TfidfVectorizer\n",
        "from sklearn.metrics.pairwise import cosine_similarity\n",
        "from hazm import word_tokenize, Normalizer\n",
        "from sklearn.cluster import KMeans\n",
        "from hazm import Normalizer, word_tokenize\n",
        "import matplotlib.pyplot as plt  # Adding this import statement\n",
        "import seaborn as sns\n",
        "from scipy.cluster.hierarchy import dendrogram, linkage\n",
        "import numpy as np\n",
        "\n",
        "\n",
        "\n",
        "# Mount Google Drive\n",
        "drive.mount('/content/drive')\n"
      ]
    },
    {
      "cell_type": "code",
      "source": [
        "\n",
        "# File path of the CSV file\n",
        "file_path = '/content/drive/My Drive/Persian.csv'\n",
        "\n",
        "df = pd.read_csv(file_path, header=None, names=['Verse'])\n",
        "\n",
        "# Initialize empty lists to store Surah No., Ayah No., and Verses\n",
        "surah_nos = []\n",
        "ayah_nos = []\n",
        "verses = []\n",
        "\n",
        "# Iterate over each row\n",
        "for index, row in df.iterrows():\n",
        "    # Split the row by \"|\"\n",
        "    parts = row['Verse'].split('|')\n",
        "\n",
        "    # Extract Surah No., Ayah No., and Verse\n",
        "    surah_no = int(parts[0])\n",
        "    ayah_no = int(parts[1])\n",
        "    verse = parts[2]\n",
        "\n",
        "    # Append to the respective lists\n",
        "    surah_nos.append(surah_no)\n",
        "    ayah_nos.append(ayah_no)\n",
        "    verses.append(verse)\n",
        "\n",
        "# Create a new DataFrame with the extracted data\n",
        "new_df = pd.DataFrame({'Surah No.': surah_nos, 'Ayah No.': ayah_nos, 'Verse': verses})\n",
        "\n",
        "# Display the new DataFrame\n",
        "print(new_df)"
      ],
      "metadata": {
        "colab": {
          "base_uri": "https://localhost:8080/"
        },
        "id": "VN69a9j-fluf",
        "outputId": "5002ce6e-a3be-4fb8-b43c-74fde9f7d8d6"
      },
      "execution_count": null,
      "outputs": [
        {
          "output_type": "stream",
          "name": "stdout",
          "text": [
            "      Surah No.  Ayah No.                                              Verse\n",
            "0             1         1                      به نام خداوند بخشنده بخشایشگر\n",
            "1             1         2   ستایش مخصوص خداوندی است که پروردگار جهانیان است.\n",
            "2             1         3  (خداوندی که) بخشنده و بخشایشگر است (و رحمت عام...\n",
            "3             1         4                       (خداوندی که) مالک روز جزاست.\n",
            "4             1         5  (پروردگارا!) تنها تو را می‌پرستیم؛ و تنها از ت...\n",
            "...         ...       ...                                                ...\n",
            "6231        114         2                               به مالک و حاکم مردم،\n",
            "6232        114         3                             به (خدا و) معبود مردم،\n",
            "6233        114         4                          از شرّ وسوسه‌گر پنهانکار،\n",
            "6234        114         5              که در درون سینه انسانها وسوسه می‌کند،\n",
            "6235        114         6                      خواه از جنّ باشد یا از انسان!\n",
            "\n",
            "[6236 rows x 3 columns]\n"
          ]
        }
      ]
    },
    {
      "cell_type": "code",
      "source": [],
      "metadata": {
        "id": "2OzodGGxiPiZ"
      },
      "execution_count": null,
      "outputs": []
    },
    {
      "cell_type": "code",
      "source": [
        "\n",
        "# Input question\n",
        "question = \"لباس زنان \"\n",
        "# Preprocess the input question\n",
        "normalizer = Normalizer()\n",
        "preprocessed_question = normalizer.normalize(question)\n",
        "\n",
        "# Preprocess the verses\n",
        "normalizer = Normalizer()\n",
        "new_df['Verse'] = new_df['Verse'].apply(normalizer.normalize)\n",
        "\n",
        "# Tokenize Persian text\n",
        "new_df['Verse'] = new_df['Verse'].apply(word_tokenize)\n",
        "\n",
        "# Tokenize the input question\n",
        "question_tokens = word_tokenize(preprocessed_question)\n",
        "\n",
        "# Convert tokens back to Persian text\n",
        "new_df['Verse'] = new_df['Verse'].apply(lambda x: ' '.join(x))\n",
        "\n",
        "# Calculate TF-IDF vectors\n",
        "vectorizer = TfidfVectorizer()\n",
        "tfidf_matrix = vectorizer.fit_transform(new_df['Verse'])\n",
        "question_tfidf = vectorizer.transform([preprocessed_question])\n",
        "\n",
        "# Calculate cosine similarity between the input question and each Ayah\n",
        "similarities = cosine_similarity(question_tfidf, tfidf_matrix)\n",
        "\n",
        "# Find the index of the closest Ayah\n",
        "# closest_ayah_index = similarities.argmax()\n",
        "\n",
        "# # Get the Ayah details\n",
        "# closest_ayah_details = new_df.iloc[closest_ayah_index]\n",
        "\n",
        "# print(\"Closest Ayah:\")\n",
        "# print(\"Surah No.:\", closest_ayah_details['Surah No.'])\n",
        "# print(\"Ayah No.:\", closest_ayah_details['Ayah No.'])\n",
        "# print(\"Verse:\", closest_ayah_details['Verse'])\n",
        "\n",
        "\n",
        "\n",
        "\n",
        "closest_ayah_indices = np.argsort(similarities, axis=1)[:,-5:]\n",
        "\n",
        "# Get the Ayah details for each of the 5 closest Ayahs\n",
        "for i, idx in enumerate(closest_ayah_indices[0]):\n",
        "    closest_ayah_details = new_df.iloc[idx]\n",
        "    print(f\"Closest Ayah {i+1}:\")\n",
        "    print(\"Surah No.:\", closest_ayah_details['Surah No.'])\n",
        "    print(\"Ayah No.:\", closest_ayah_details['Ayah No.'])\n",
        "    print(\"Verse:\", closest_ayah_details['Verse'])\n",
        "    print()"
      ],
      "metadata": {
        "colab": {
          "base_uri": "https://localhost:8080/"
        },
        "id": "583boC31jJqQ",
        "outputId": "e31166c3-5215-40b5-9752-cae69adfc0fb"
      },
      "execution_count": null,
      "outputs": [
        {
          "output_type": "stream",
          "name": "stdout",
          "text": [
            "Closest Ayah 1:\n",
            "Surah No.: 2\n",
            "Ayah No.: 187\n",
            "Verse: آمیزش جنسی با همسرانتان ، در شب روزهایی که روزه می‌گیرید ، حلال است . آنها لباس شما هستند ؛ و شما لباس آنها ( هر دو زینت هم و سبب حفظ یکدیگرید ) . خداوند می‌دانست که شما به خود خیانت می‌کردید ؛ ( و این کار ممنوع را انجام می‌دادید ؛ ) پس توبه شما را پذیرفت و شما را بخشید . اکنون با آنها آمیزش کنید ، و آنچه را خدا برای شما مقرر داشته ، طلب نمایید ! و بخورید و بیاشامید ، تا رشته سپید صبح ، از رشته سیاه ( شب ) برای شما آشکار گردد ! سپس روزه را تا شب ، تکمیل کنید ! و در حالی که در مساجد به اعتکاف پرداخته‌اید ، با زنان آمیزش نکنید ! این ، مرزهای الهی است ؛ پس به آن نزدیک نشوید ! خداوند ، این‌چنین آیات خود را برای مردم ، روشن می‌سازد ، باشد که پرهیزکار گردند !\n",
            "\n",
            "Closest Ayah 2:\n",
            "Surah No.: 24\n",
            "Ayah No.: 26\n",
            "Verse: زنان ناپاک از آن مردان ناپاکند ، و مردان ناپاک نیز به زنان ناپاک تعلق دارند ؛ و زنان پاک از آن مردان پاک ، و مردان پاک از آن زنان پاکند ! اینان از نسبتهای ناروایی که ( ناپاکان ) به آنان می‌دهند مبرا هستند ؛ و برای آنان آمرزش ( الهی ) و روزی پرارزشی است !\n",
            "\n",
            "Closest Ayah 3:\n",
            "Surah No.: 33\n",
            "Ayah No.: 73\n",
            "Verse: هدف این بود که خداوند مردان و زنان منافق و مردان و زنان مشرک را ( از مؤمنان جدا سازد و آنان را ) عذاب کند ، و خدا رحمت خود را بر مردان و زنان باایمان بفرستد ؛ خداوند همواره آمرزنده و رحیم است !\n",
            "\n",
            "Closest Ayah 4:\n",
            "Surah No.: 25\n",
            "Ayah No.: 47\n",
            "Verse: او کسی است که شب را برای شما لباس قرار داد ، و خواب را مایه استراحت ، و روز را وسیله حرکت و حیات !\n",
            "\n",
            "Closest Ayah 5:\n",
            "Surah No.: 33\n",
            "Ayah No.: 35\n",
            "Verse: به یقین ، مردان مسلمان و زنان مسلمان ، مردان با ایمان و زنان با ایمان ، مردان مطیع فرمان خدا و زنان مطیع فرمان خدا ، مردان راستگو و زنان راستگو ، مردان صابر و شکیبا و زنان صابر و شکیبا ، مردان با خشوع و زنان با خشوع ، مردان انفاق کننده و زنان انفاق کننده ، مردان روزه‌دار و زنان روزه‌دار ، مردان پاکدامن و زنان پاکدامن و مردانی که بسیار به یاد خدا هستند و زنانی که بسیار یاد خدا می‌کنند ، خداوند برای همه آنان مغفرت و پاداش عظیمی فراهم ساخته_است .\n",
            "\n"
          ]
        }
      ]
    },
    {
      "cell_type": "code",
      "source": [
        "import pandas as pd\n",
        "from sklearn.feature_extraction.text import TfidfVectorizer\n",
        "from sklearn.cluster import KMeans\n",
        "from hazm import Normalizer, word_tokenize\n",
        "\n",
        "# File path of the CSV file\n",
        "# file_path = '/content/drive/My Drive/Persian.csv'\n",
        "\n",
        "# Read the CSV file into a DataFrame, specifying encoding as 'utf-8'\n",
        "\n",
        "# Preprocess the verses\n",
        "normalizer = Normalizer()\n",
        "new_df['Verse'] = new_df['Verse'].apply(normalizer.normalize)\n",
        "new_df['Verse'] = new_df['Verse'].apply(word_tokenize)\n",
        "new_df['Verse'] = new_df['Verse'].apply(lambda x: ' '.join(x))\n",
        "\n",
        "# Calculate TF-IDF vectors\n",
        "vectorizer = TfidfVectorizer()\n",
        "tfidf_matrix = vectorizer.fit_transform(new_df['Verse'])\n",
        "\n",
        "# Perform K-means clustering\n",
        "num_clusters = 5  # You can adjust the number of clusters as needed\n",
        "kmeans = KMeans(n_clusters=num_clusters, random_state=42)\n",
        "kmeans.fit(tfidf_matrix)\n",
        "new_df['Cluster'] = kmeans.labels_\n",
        "\n",
        "# Plot bar chart to visualize distribution of surahs across clusters\n",
        "plt.figure(figsize=(10, 6))\n",
        "sns.countplot(data=new_df, x='Cluster')\n",
        "plt.title('Distribution of Surahs Across Clusters')\n",
        "plt.xlabel('Cluster')\n",
        "plt.ylabel('Number of Surahs')\n",
        "plt.show()\n",
        "\n",
        "# Create dendrogram to visualize hierarchical clustering\n",
        "plt.figure(figsize=(12, 8))\n",
        "linkage_matrix = linkage(tfidf_matrix.toarray(), method='ward')\n",
        "dendrogram(linkage_matrix, labels=new_df['Surah No.'].tolist(), leaf_rotation=90)\n",
        "plt.title('Dendrogram of Surahs')\n",
        "plt.xlabel('Surah')\n",
        "plt.ylabel('Distance')\n",
        "plt.show()"
      ],
      "metadata": {
        "colab": {
          "base_uri": "https://localhost:8080/",
          "height": 620
        },
        "id": "X_Bojac6jpSp",
        "outputId": "3f74eac9-24ac-44c0-c7af-94dc4c41f9dd"
      },
      "execution_count": null,
      "outputs": [
        {
          "output_type": "stream",
          "name": "stderr",
          "text": [
            "/usr/local/lib/python3.10/dist-packages/sklearn/cluster/_kmeans.py:870: FutureWarning: The default value of `n_init` will change from 10 to 'auto' in 1.4. Set the value of `n_init` explicitly to suppress the warning\n",
            "  warnings.warn(\n"
          ]
        },
        {
          "output_type": "display_data",
          "data": {
            "text/plain": [
              "<Figure size 1000x600 with 1 Axes>"
            ],
            "image/png": "[encoded data removed]"
          },
          "metadata": {}
        }
      ]
    }
  ]
}